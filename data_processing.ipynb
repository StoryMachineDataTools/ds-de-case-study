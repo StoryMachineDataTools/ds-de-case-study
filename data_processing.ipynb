{
 "cells": [
  {
   "cell_type": "markdown",
   "id": "7e19d9cf",
   "metadata": {},
   "source": [
    "# DS/DE Case Study"
   ]
  },
  {
   "cell_type": "markdown",
   "id": "fe7b18a0",
   "metadata": {},
   "source": [
    "## Assignment Tasks\n",
    "\n",
    "- Task 1: Examine the provided data.\n",
    "\n",
    "- Task 2: Run the Python script to create the SQLite database.\n",
    "\n",
    "- Task 3: Identify the preprocessing steps required to clean up the data and write a few functions to perform them.\n",
    "\n",
    "- Task 4: Run the function to insert the data into the database and debug any errors (you can either try fixing them or explain what the problem might be)."
   ]
  },
  {
   "cell_type": "code",
   "execution_count": 3,
   "id": "9896d0cd",
   "metadata": {},
   "outputs": [],
   "source": [
    "# Add your imports here\n"
   ]
  },
  {
   "cell_type": "markdown",
   "id": "cbcfb2ca",
   "metadata": {},
   "source": [
    "## Explore the Dataset below "
   ]
  },
  {
   "cell_type": "code",
   "execution_count": null,
   "id": "cf92456a",
   "metadata": {},
   "outputs": [],
   "source": []
  },
  {
   "cell_type": "markdown",
   "id": "badb0bce",
   "metadata": {},
   "source": [
    "## Complete the functions "
   ]
  },
  {
   "cell_type": "code",
   "execution_count": null,
   "id": "4076677b",
   "metadata": {},
   "outputs": [],
   "source": [
    "# Drop the rows that do not have a follower count"
   ]
  },
  {
   "cell_type": "code",
   "execution_count": 5,
   "id": "d26c8716",
   "metadata": {},
   "outputs": [],
   "source": [
    "def clean_profile_name(profile_name):\n",
    "    \"\"\"\n",
    "    Remove leading and trailing spaces from profile names.\n",
    "\n",
    "    Parameters:\n",
    "        profile_name (str): The raw profile name string.\n",
    "                            Examples: \"  john_doe123  \", \"sarah_wilson\".\n",
    "\n",
    "    Returns:\n",
    "        str: Cleaned profile name without extra spaces.\n",
    "             For example:\n",
    "                \"  john_doe123  \" -> \"john_doe123\"\n",
    "    \"\"\"\n",
    "    # TODO: Strip whitespace from profile_name\n",
    "    pass"
   ]
  },
  {
   "cell_type": "code",
   "execution_count": 6,
   "id": "bafd3419",
   "metadata": {},
   "outputs": [],
   "source": [
    "def is_valid_url(profile_url):\n",
    "    \"\"\"\n",
    "    Check whether the provided profile URL is valid.\n",
    "\n",
    "    Parameters:\n",
    "        profile_url (str): The profile URL string.\n",
    "                           Examples: \"https://twitter.com/john_doe123\",\n",
    "                                     \"linkedin.com/in/mike-chen\",\n",
    "                                     \"\".\n",
    "\n",
    "    Returns:\n",
    "        bool: True if the URL is valid (starts with http/https and has a domain),\n",
    "              False otherwise.\n",
    "              For example:\n",
    "                 \"https://twitter.com/john_doe123\" -> True\n",
    "                 \"linkedin.com/in/mike-chen\"      -> False\n",
    "                 \"\"                               -> False\n",
    "    \"\"\"\n",
    "    # TODO: Implement a basic URL validation check\n",
    "    pass\n"
   ]
  },
  {
   "cell_type": "markdown",
   "id": "4fd0f0d2",
   "metadata": {},
   "source": [
    "## Insert the data into the table\n",
    "\n",
    "Use the function given below to insert the data. \n",
    "\n",
    "Debug or provide a solution to the error."
   ]
  },
  {
   "cell_type": "code",
   "execution_count": null,
   "id": "dcde576c",
   "metadata": {},
   "outputs": [],
   "source": [
    "import sqlite3\n",
    "\n",
    "# --- Main function ---\n",
    "def insert_dataframe_into_db(df):\n",
    "    \"\"\"\n",
    "    Clean a Pandas DataFrame and insert data into an SQLite database.\n",
    "\n",
    "    Parameters:\n",
    "        df (pd.DataFrame): Must have columns ['profile_name', 'profile_url', 'follower_count'].\n",
    "    \"\"\"\n",
    "\n",
    "    # Connect to SQLite\n",
    "    conn = sqlite3.connect(\"social_media_database.db\")\n",
    "\n",
    "\n",
    "    # Insert data using pandas helper\n",
    "    df.to_sql(\"social_profiles\", conn, if_exists=\"append\", index=False)\n",
    "\n",
    "    conn.commit()\n",
    "    conn.close()\n",
    "\n",
    "\n"
   ]
  },
  {
   "cell_type": "code",
   "execution_count": null,
   "id": "815d2529",
   "metadata": {},
   "outputs": [],
   "source": []
  }
 ],
 "metadata": {
  "kernelspec": {
   "display_name": ".env",
   "language": "python",
   "name": "python3"
  },
  "language_info": {
   "codemirror_mode": {
    "name": "ipython",
    "version": 3
   },
   "file_extension": ".py",
   "mimetype": "text/x-python",
   "name": "python",
   "nbconvert_exporter": "python",
   "pygments_lexer": "ipython3",
   "version": "3.13.2"
  }
 },
 "nbformat": 4,
 "nbformat_minor": 5
}
